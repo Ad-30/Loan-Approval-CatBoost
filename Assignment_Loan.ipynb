{
  "nbformat": 4,
  "nbformat_minor": 0,
  "metadata": {
    "colab": {
      "provenance": []
    },
    "kernelspec": {
      "name": "python3",
      "display_name": "Python 3"
    },
    "language_info": {
      "name": "python"
    }
  },
  "cells": [
    {
      "cell_type": "code",
      "execution_count": 1,
      "metadata": {
        "id": "pgJPDV3CYCdO"
      },
      "outputs": [],
      "source": [
        "import pandas as pd\n",
        "import numpy as np"
      ]
    },
    {
      "cell_type": "code",
      "source": [
        "df = pd.read_csv('/content/Assignment_Train.csv')"
      ],
      "metadata": {
        "id": "6TL-njfaYITd"
      },
      "execution_count": 2,
      "outputs": []
    },
    {
      "cell_type": "code",
      "source": [
        "df.info()"
      ],
      "metadata": {
        "colab": {
          "base_uri": "https://localhost:8080/"
        },
        "id": "bJOqKkvkot5j",
        "outputId": "615e318f-ef01-4d42-b185-74ffd6b3b2de"
      },
      "execution_count": 3,
      "outputs": [
        {
          "output_type": "stream",
          "name": "stdout",
          "text": [
            "<class 'pandas.core.frame.DataFrame'>\n",
            "RangeIndex: 10000 entries, 0 to 9999\n",
            "Data columns (total 55 columns):\n",
            " #   Column                               Non-Null Count  Dtype  \n",
            "---  ------                               --------------  -----  \n",
            " 0   DEALER ID                            10000 non-null  int64  \n",
            " 1   APPLICATION LOGIN DATE               10000 non-null  object \n",
            " 2   HDB BRANCH NAME                      9999 non-null   object \n",
            " 3   HDB BRANCH STATE                     9146 non-null   object \n",
            " 4   FIRST NAME                           10000 non-null  object \n",
            " 5   MIDDLE NAME                          2855 non-null   object \n",
            " 6   LAST NAME                            9319 non-null   object \n",
            " 7   mobile                               10000 non-null  int64  \n",
            " 8   AADHAR VERIFIED                      10000 non-null  object \n",
            " 9   Cibil Score                          5703 non-null   object \n",
            " 10  MOBILE VERIFICATION                  10000 non-null  bool   \n",
            " 11  DEALER NAME                          9996 non-null   object \n",
            " 12  TOTAL ASSET COST                     4892 non-null   float64\n",
            " 13  ASSET CTG                            4892 non-null   object \n",
            " 14  ASSET MODEL NO                       10000 non-null  int64  \n",
            " 15  APPLIED AMOUNT                       10000 non-null  int64  \n",
            " 16  PRIMARY ASSET MAKE                   10000 non-null  object \n",
            " 17  Primary Asset Model No               10000 non-null  object \n",
            " 18  Personal Email Address               10000 non-null  object \n",
            " 19  MARITAL STATUS                       5106 non-null   object \n",
            " 20  GENDER                               10000 non-null  object \n",
            " 21  DOB                                  10000 non-null  int64  \n",
            " 22  AGE                                  10000 non-null  int64  \n",
            " 23  ADDRESS TYPE                         6688 non-null   object \n",
            " 24  EMPLOY CONSTITUTION                  5002 non-null   object \n",
            " 25  EMPLOYER NAME                        4990 non-null   object \n",
            " 26  EMPLOYER TYPE                        5002 non-null   object \n",
            " 27  Pan Name                             8947 non-null   object \n",
            " 28  name                                 10000 non-null  object \n",
            " 29  vpa                                  7213 non-null   object \n",
            " 30  upi_name                             7211 non-null   object \n",
            " 31  Phone Social Premium.a23games        1 non-null      float64\n",
            " 32  Phone Social Premium.amazon          8084 non-null   float64\n",
            " 33  Phone Social Premium.byjus           8052 non-null   float64\n",
            " 34  Phone Social Premium.flipkart        8168 non-null   float64\n",
            " 35  Phone Social Premium.housing         8224 non-null   float64\n",
            " 36  Phone Social Premium.indiamart       8225 non-null   float64\n",
            " 37  Phone Social Premium.instagram       3370 non-null   float64\n",
            " 38  Phone Social Premium.isWABusiness    1573 non-null   float64\n",
            " 39  Phone Social Premium.jeevansaathi    8171 non-null   float64\n",
            " 40  Phone Social Premium.jiomart         410 non-null    float64\n",
            " 41  Phone Social Premium.microsoft       8128 non-null   float64\n",
            " 42  Phone Social Premium.my11            2 non-null      float64\n",
            " 43  Phone Social Premium.paytm           8243 non-null   float64\n",
            " 44  Phone Social Premium.rummycircle     1 non-null      float64\n",
            " 45  Phone Social Premium.shaadi          8221 non-null   float64\n",
            " 46  Phone Social Premium.skype           8215 non-null   float64\n",
            " 47  Phone Social Premium.toi             8057 non-null   float64\n",
            " 48  Phone Social Premium.whatsapp        1573 non-null   float64\n",
            " 49  Phone Social Premium.yatra           9 non-null      float64\n",
            " 50  Phone Social Premium.zoho            8218 non-null   float64\n",
            " 51  phone_digitalage                     9996 non-null   float64\n",
            " 52  phone_nameMatchScore                 9996 non-null   float64\n",
            " 53  phone_phoneFootprintStrengthOverall  9994 non-null   object \n",
            " 54  Application Status                   10000 non-null  object \n",
            "dtypes: bool(1), float64(23), int64(6), object(25)\n",
            "memory usage: 4.1+ MB\n"
          ]
        }
      ]
    },
    {
      "cell_type": "code",
      "source": [
        "columns_to_drop = ['DEALER ID', 'HDB BRANCH NAME', 'APPLICATION LOGIN DATE', 'HDB BRANCH STATE', 'mobile', 'AADHAR VERIFIED', 'MOBILE VERIFICATION', 'DEALER NAME', 'ASSET MODEL NO', 'PRIMARY ASSET MAKE', 'Primary Asset Model No', 'Personal Email Address', 'DOB', 'EMPLOYER NAME', 'EMPLOYER TYPE', 'FIRST NAME', 'MIDDLE NAME', 'LAST NAME', 'vpa', 'upi_name', 'Phone Social Premium.a23games', 'Phone Social Premium.amazon', 'Phone Social Premium.byjus', 'Phone Social Premium.flipkart', 'Phone Social Premium.indiamart', 'Phone Social Premium.instagram', 'Phone Social Premium.isWABusiness', 'Phone Social Premium.jeevansaathi', 'Phone Social Premium.jiomart', 'Phone Social Premium.microsoft', 'Phone Social Premium.my11', 'Phone Social Premium.paytm', 'Phone Social Premium.rummycircle', 'Phone Social Premium.shaadi', 'Phone Social Premium.skype', 'Phone Social Premium.toi', 'Phone Social Premium.whatsapp', 'Phone Social Premium.yatra', 'Phone Social Premium.zoho']\n",
        "df.drop(columns=columns_to_drop, inplace=True)"
      ],
      "metadata": {
        "id": "wlVs_r5mYOwe"
      },
      "execution_count": 4,
      "outputs": []
    },
    {
      "cell_type": "code",
      "source": [
        "# Didn't helped in increasing the prediction accuracy or any other metrics\n",
        "# branch_name_freq = df['HDB BRANCH NAME'].value_counts()\n",
        "# branch_name_freq = branch_name_freq / len(df)\n",
        "# df['HDB BRANCH NAME'] = df['HDB BRANCH NAME'].map(branch_name_freq).fillna(0)"
      ],
      "metadata": {
        "id": "trp4qX2GYZ8-"
      },
      "execution_count": 5,
      "outputs": []
    },
    {
      "cell_type": "code",
      "source": [
        "# print(df['HDB BRANCH NAME'].head())"
      ],
      "metadata": {
        "id": "zPpOUJFaYayN"
      },
      "execution_count": 6,
      "outputs": []
    },
    {
      "cell_type": "code",
      "source": [
        "df['Cibil Score'] = pd.to_numeric(df['Cibil Score'], errors='coerce')"
      ],
      "metadata": {
        "id": "FF9XW8nqYwDu"
      },
      "execution_count": 7,
      "outputs": []
    },
    {
      "cell_type": "code",
      "source": [
        "from sklearn.preprocessing import LabelEncoder\n",
        "\n",
        "le = LabelEncoder()"
      ],
      "metadata": {
        "id": "89VK2PrnZCzY"
      },
      "execution_count": 8,
      "outputs": []
    },
    {
      "cell_type": "code",
      "source": [
        "le.fit(df['MARITAL STATUS'].dropna())\n",
        "\n",
        "print(dict(zip(le.classes_, le.transform(le.classes_))))\n",
        "\n",
        "df['MARITAL STATUS'] = df['MARITAL STATUS'].apply(lambda x: le.transform([x])[0] if pd.notnull(x) else np.nan)\n",
        "\n",
        "print(df['MARITAL STATUS'].unique())"
      ],
      "metadata": {
        "colab": {
          "base_uri": "https://localhost:8080/"
        },
        "id": "pR77lxTwZGtM",
        "outputId": "20fb8209-ccbc-4a23-bf5d-7dfbc00137a9"
      },
      "execution_count": 9,
      "outputs": [
        {
          "output_type": "stream",
          "name": "stdout",
          "text": [
            "{'Married': 0, 'Single': 1}\n",
            "[ 0. nan  1.]\n"
          ]
        }
      ]
    },
    {
      "cell_type": "code",
      "source": [
        "le_gender = LabelEncoder()\n",
        "\n",
        "df['GENDER'] = le_gender.fit_transform(df['GENDER'])\n",
        "\n",
        "print(df['GENDER'].unique())\n",
        "\n",
        "print(dict(zip(le_gender.classes_, le_gender.transform(le_gender.classes_))))"
      ],
      "metadata": {
        "colab": {
          "base_uri": "https://localhost:8080/"
        },
        "id": "Of3kmjUNZI0t",
        "outputId": "5868e740-9649-46e7-c72a-83485413fdc2"
      },
      "execution_count": 10,
      "outputs": [
        {
          "output_type": "stream",
          "name": "stdout",
          "text": [
            "[1 0]\n",
            "{'Female': 0, 'Male': 1}\n"
          ]
        }
      ]
    },
    {
      "cell_type": "code",
      "source": [
        "df = pd.get_dummies(df, columns=['ADDRESS TYPE'], dummy_na=True)"
      ],
      "metadata": {
        "id": "lmJVkIvtZN7w"
      },
      "execution_count": 11,
      "outputs": []
    },
    {
      "cell_type": "code",
      "source": [
        "df['EMPLOY CONSTITUTION'] = df['EMPLOY CONSTITUTION'].map({\n",
        "    'SALARIED': 0,\n",
        "    'SELF-EMPLOYED': 1\n",
        "})"
      ],
      "metadata": {
        "id": "-SO06JCUZaJ4"
      },
      "execution_count": 12,
      "outputs": []
    },
    {
      "cell_type": "code",
      "source": [
        "df['pan_name_match'] = df.apply(\n",
        "    lambda row: 1 if pd.isna(row['Pan Name']) or row['Pan Name'] == row['name'] else 0,\n",
        "    axis=1\n",
        ")\n",
        "\n",
        "df = df.drop(columns=['Pan Name', 'name'])"
      ],
      "metadata": {
        "id": "cEi6YRUpZeay"
      },
      "execution_count": 13,
      "outputs": []
    },
    {
      "cell_type": "code",
      "source": [
        "phone_footprint_encoded = pd.get_dummies(df['phone_phoneFootprintStrengthOverall'], dummy_na=True, prefix='phone_footprint')\n",
        "df = pd.concat([df, phone_footprint_encoded], axis=1)\n",
        "df = df.drop(columns=['phone_phoneFootprintStrengthOverall'])"
      ],
      "metadata": {
        "id": "u6vp0wGgZiIj"
      },
      "execution_count": 14,
      "outputs": []
    },
    {
      "cell_type": "code",
      "source": [
        "label_encoder = LabelEncoder()\n",
        "\n",
        "df['Application Status'] = label_encoder.fit_transform(df['Application Status'])"
      ],
      "metadata": {
        "id": "d-WWNwB9ZnDF"
      },
      "execution_count": 15,
      "outputs": []
    },
    {
      "cell_type": "code",
      "source": [
        "one_hot_encoded_df = pd.get_dummies(df['ASSET CTG'], prefix='ASSET_CTG')\n",
        "df = pd.concat([df, one_hot_encoded_df], axis=1)\n",
        "df.drop('ASSET CTG', axis=1, inplace=True)"
      ],
      "metadata": {
        "id": "FcmFiCC6akKI"
      },
      "execution_count": 16,
      "outputs": []
    },
    {
      "cell_type": "code",
      "source": [
        "columns_to_drop = [\n",
        "    'ASSET_CTG_EMECA', 'ASSET_CTG_ESECB', 'ASSET_CTG_ESNRB', 'ASSET_CTG_ESNRC',\n",
        "    'ASSET_CTG_MCECA', 'ASSET_CTG_MCECB', 'ASSET_CTG_MCECC', 'ASSET_CTG_MCEXA',\n",
        "    'ASSET_CTG_MCEXB', 'ASSET_CTG_MCPRA', 'ASSET_CTG_MOECA', 'ASSET_CTG_SCECA',\n",
        "    'ASSET_CTG_SCEXA', 'phone_footprint_nan', 'ADDRESS TYPE_nan'\n",
        "]\n",
        "# columns_to_drop = [\n",
        "#     'phone_footprint_nan', 'ADDRESS TYPE_nan'\n",
        "# ]\n",
        "\n",
        "df.drop(columns=columns_to_drop, axis=1, inplace=True)"
      ],
      "metadata": {
        "id": "AnHutogvnBNf"
      },
      "execution_count": 17,
      "outputs": []
    },
    {
      "cell_type": "code",
      "source": [
        "from sklearn.model_selection import train_test_split\n",
        "\n",
        "X = df.drop(columns=['Application Status'])\n",
        "y = df['Application Status']\n",
        "\n",
        "X_train, X_test, y_train, y_test = train_test_split(X, y, test_size=0.30, random_state=42)"
      ],
      "metadata": {
        "id": "Djg4rm3xZs4K"
      },
      "execution_count": 18,
      "outputs": []
    },
    {
      "cell_type": "code",
      "source": [
        "!pip install catboost"
      ],
      "metadata": {
        "colab": {
          "base_uri": "https://localhost:8080/"
        },
        "id": "cOlXSZcoaBNm",
        "outputId": "ee49e9b7-463a-4a60-ba2c-8238fa3ca1b3"
      },
      "execution_count": 19,
      "outputs": [
        {
          "output_type": "stream",
          "name": "stdout",
          "text": [
            "Collecting catboost\n",
            "  Downloading catboost-1.2.7-cp310-cp310-manylinux2014_x86_64.whl.metadata (1.2 kB)\n",
            "Requirement already satisfied: graphviz in /usr/local/lib/python3.10/dist-packages (from catboost) (0.20.3)\n",
            "Requirement already satisfied: matplotlib in /usr/local/lib/python3.10/dist-packages (from catboost) (3.7.1)\n",
            "Requirement already satisfied: numpy<2.0,>=1.16.0 in /usr/local/lib/python3.10/dist-packages (from catboost) (1.26.4)\n",
            "Requirement already satisfied: pandas>=0.24 in /usr/local/lib/python3.10/dist-packages (from catboost) (2.1.4)\n",
            "Requirement already satisfied: scipy in /usr/local/lib/python3.10/dist-packages (from catboost) (1.13.1)\n",
            "Requirement already satisfied: plotly in /usr/local/lib/python3.10/dist-packages (from catboost) (5.15.0)\n",
            "Requirement already satisfied: six in /usr/local/lib/python3.10/dist-packages (from catboost) (1.16.0)\n",
            "Requirement already satisfied: python-dateutil>=2.8.2 in /usr/local/lib/python3.10/dist-packages (from pandas>=0.24->catboost) (2.8.2)\n",
            "Requirement already satisfied: pytz>=2020.1 in /usr/local/lib/python3.10/dist-packages (from pandas>=0.24->catboost) (2024.1)\n",
            "Requirement already satisfied: tzdata>=2022.1 in /usr/local/lib/python3.10/dist-packages (from pandas>=0.24->catboost) (2024.1)\n",
            "Requirement already satisfied: contourpy>=1.0.1 in /usr/local/lib/python3.10/dist-packages (from matplotlib->catboost) (1.3.0)\n",
            "Requirement already satisfied: cycler>=0.10 in /usr/local/lib/python3.10/dist-packages (from matplotlib->catboost) (0.12.1)\n",
            "Requirement already satisfied: fonttools>=4.22.0 in /usr/local/lib/python3.10/dist-packages (from matplotlib->catboost) (4.53.1)\n",
            "Requirement already satisfied: kiwisolver>=1.0.1 in /usr/local/lib/python3.10/dist-packages (from matplotlib->catboost) (1.4.5)\n",
            "Requirement already satisfied: packaging>=20.0 in /usr/local/lib/python3.10/dist-packages (from matplotlib->catboost) (24.1)\n",
            "Requirement already satisfied: pillow>=6.2.0 in /usr/local/lib/python3.10/dist-packages (from matplotlib->catboost) (9.4.0)\n",
            "Requirement already satisfied: pyparsing>=2.3.1 in /usr/local/lib/python3.10/dist-packages (from matplotlib->catboost) (3.1.4)\n",
            "Requirement already satisfied: tenacity>=6.2.0 in /usr/local/lib/python3.10/dist-packages (from plotly->catboost) (9.0.0)\n",
            "Downloading catboost-1.2.7-cp310-cp310-manylinux2014_x86_64.whl (98.7 MB)\n",
            "\u001b[2K   \u001b[90m━━━━━━━━━━━━━━━━━━━━━━━━━━━━━━━━━━━━━━━━\u001b[0m \u001b[32m98.7/98.7 MB\u001b[0m \u001b[31m10.3 MB/s\u001b[0m eta \u001b[36m0:00:00\u001b[0m\n",
            "\u001b[?25hInstalling collected packages: catboost\n",
            "Successfully installed catboost-1.2.7\n"
          ]
        }
      ]
    },
    {
      "cell_type": "code",
      "source": [
        "X.info()"
      ],
      "metadata": {
        "colab": {
          "base_uri": "https://localhost:8080/"
        },
        "id": "loIQ_4s2aL2T",
        "outputId": "536adb98-e611-47df-b867-3bae44bd9513"
      },
      "execution_count": 20,
      "outputs": [
        {
          "output_type": "stream",
          "name": "stdout",
          "text": [
            "<class 'pandas.core.frame.DataFrame'>\n",
            "RangeIndex: 10000 entries, 0 to 9999\n",
            "Data columns (total 28 columns):\n",
            " #   Column                           Non-Null Count  Dtype  \n",
            "---  ------                           --------------  -----  \n",
            " 0   Cibil Score                      5665 non-null   float64\n",
            " 1   TOTAL ASSET COST                 4892 non-null   float64\n",
            " 2   APPLIED AMOUNT                   10000 non-null  int64  \n",
            " 3   MARITAL STATUS                   5106 non-null   float64\n",
            " 4   GENDER                           10000 non-null  int64  \n",
            " 5   AGE                              10000 non-null  int64  \n",
            " 6   EMPLOY CONSTITUTION              5002 non-null   float64\n",
            " 7   Phone Social Premium.housing     8224 non-null   float64\n",
            " 8   phone_digitalage                 9996 non-null   float64\n",
            " 9   phone_nameMatchScore             9996 non-null   float64\n",
            " 10  ADDRESS TYPE_Company Provided    10000 non-null  bool   \n",
            " 11  ADDRESS TYPE_OWNDED-FLAT         10000 non-null  bool   \n",
            " 12  ADDRESS TYPE_OWNED-BUNGLOW       10000 non-null  bool   \n",
            " 13  ADDRESS TYPE_OWNED-PENTHOUSE     10000 non-null  bool   \n",
            " 14  ADDRESS TYPE_OWNED-ROWHOUSE      10000 non-null  bool   \n",
            " 15  ADDRESS TYPE_PARENT OWNED-FLAT   10000 non-null  bool   \n",
            " 16  ADDRESS TYPE_PARENT OWNED-HOUSE  10000 non-null  bool   \n",
            " 17  ADDRESS TYPE_Parental            10000 non-null  bool   \n",
            " 18  ADDRESS TYPE_RENTED-ROWHOUSE     10000 non-null  bool   \n",
            " 19  ADDRESS TYPE_RESIDENCE           10000 non-null  bool   \n",
            " 20  ADDRESS TYPE_Rented              10000 non-null  bool   \n",
            " 21  ADDRESS TYPE_Self/Spouse Owned   10000 non-null  bool   \n",
            " 22  pan_name_match                   10000 non-null  int64  \n",
            " 23  phone_footprint_High             10000 non-null  bool   \n",
            " 24  phone_footprint_Low              10000 non-null  bool   \n",
            " 25  phone_footprint_Medium           10000 non-null  bool   \n",
            " 26  phone_footprint_Very High        10000 non-null  bool   \n",
            " 27  phone_footprint_Very Low         10000 non-null  bool   \n",
            "dtypes: bool(17), float64(7), int64(4)\n",
            "memory usage: 1.0 MB\n"
          ]
        }
      ]
    },
    {
      "cell_type": "code",
      "source": [
        "from catboost import CatBoostClassifier\n",
        "from sklearn.metrics import accuracy_score\n",
        "\n",
        "catboost_model = CatBoostClassifier(learning_rate=0.101, depth=6, iterations=100, verbose=0)\n",
        "\n",
        "catboost_model.fit(X_train, y_train)\n",
        "\n",
        "catboost_predictions = catboost_model.predict(X_test)\n",
        "\n",
        "catboost_accuracy = accuracy_score(y_test, catboost_predictions)\n",
        "print(f'CatBoost Accuracy: {catboost_accuracy}')"
      ],
      "metadata": {
        "colab": {
          "base_uri": "https://localhost:8080/"
        },
        "id": "wTIUZxTrZ31y",
        "outputId": "fb440c85-3c09-4950-a1f7-ad25fe59aba3"
      },
      "execution_count": 21,
      "outputs": [
        {
          "output_type": "stream",
          "name": "stdout",
          "text": [
            "CatBoost Accuracy: 0.8786666666666667\n"
          ]
        }
      ]
    },
    {
      "cell_type": "code",
      "source": [
        "import matplotlib.pyplot as plt\n",
        "import seaborn as sns\n",
        "from sklearn.metrics import confusion_matrix\n",
        "\n",
        "conf_matrix = confusion_matrix(y_test, catboost_predictions)\n",
        "\n",
        "plt.figure(figsize=(8, 6))\n",
        "sns.heatmap(conf_matrix, annot=True, fmt='d', cmap='Blues', cbar=False, xticklabels=['Predicted Negative', 'Predicted Positive'], yticklabels=['Actual Negative', 'Actual Positive'])\n",
        "plt.title('Confusion Matrix')\n",
        "plt.ylabel('Actual')\n",
        "plt.xlabel('Predicted')\n",
        "plt.show()"
      ],
      "metadata": {
        "colab": {
          "base_uri": "https://localhost:8080/",
          "height": 564
        },
        "id": "K0UXmGFFpJDQ",
        "outputId": "47eb1342-6dbc-42ef-a7a9-72059b479935"
      },
      "execution_count": 22,
      "outputs": [
        {
          "output_type": "display_data",
          "data": {
            "text/plain": [
              "<Figure size 800x600 with 1 Axes>"
            ],
            "image/png": "[encoded data removed]"
          },
          "metadata": {}
        }
      ]
    },
    {
      "cell_type": "code",
      "source": [
        "from sklearn.metrics import classification_report\n",
        "\n",
        "report = classification_report(y_test, catboost_predictions)\n",
        "print(f'Classification Report:\\n{report}')"
      ],
      "metadata": {
        "colab": {
          "base_uri": "https://localhost:8080/"
        },
        "id": "Jz0__zGqpZPN",
        "outputId": "bc886c83-db2f-4345-cc5c-c978e2c949f5"
      },
      "execution_count": 23,
      "outputs": [
        {
          "output_type": "stream",
          "name": "stdout",
          "text": [
            "Classification Report:\n",
            "              precision    recall  f1-score   support\n",
            "\n",
            "           0       0.91      0.91      0.91      1995\n",
            "           1       0.82      0.82      0.82      1005\n",
            "\n",
            "    accuracy                           0.88      3000\n",
            "   macro avg       0.86      0.87      0.86      3000\n",
            "weighted avg       0.88      0.88      0.88      3000\n",
            "\n"
          ]
        }
      ]
    },
    {
      "cell_type": "code",
      "source": [
        "from sklearn.metrics import log_loss\n",
        "\n",
        "logloss = log_loss(y_test, catboost_model.predict_proba(X_test))\n",
        "print(f'Log Loss: {logloss}')"
      ],
      "metadata": {
        "colab": {
          "base_uri": "https://localhost:8080/"
        },
        "id": "OEFudmh_pfrP",
        "outputId": "5405113e-859b-4e18-fdd8-73b4f007f3f5"
      },
      "execution_count": 24,
      "outputs": [
        {
          "output_type": "stream",
          "name": "stdout",
          "text": [
            "Log Loss: 0.23803086128888004\n"
          ]
        }
      ]
    },
    {
      "cell_type": "code",
      "source": [
        "import matplotlib.pyplot as plt\n",
        "from sklearn.metrics import roc_curve, roc_auc_score\n",
        "\n",
        "roc_auc = roc_auc_score(y_test, catboost_model.predict_proba(X_test)[:, 1])\n",
        "print(f'ROC AUC Score: {roc_auc}')\n",
        "\n",
        "fpr, tpr, thresholds = roc_curve(y_test, catboost_model.predict_proba(X_test)[:, 1])\n",
        "\n",
        "plt.figure(figsize=(8, 6))\n",
        "plt.plot(fpr, tpr, color='blue', label=f'ROC Curve (AUC = {roc_auc:.2f})')\n",
        "plt.plot([0, 1], [0, 1], color='red', linestyle='--')\n",
        "plt.fill_between(fpr, tpr, color='blue', alpha=0.3)\n",
        "\n",
        "plt.title('Receiver Operating Characteristic (ROC) Curve')\n",
        "plt.xlabel('False Positive Rate (FPR)')\n",
        "plt.ylabel('True Positive Rate (TPR)')\n",
        "plt.legend(loc=\"lower right\")\n",
        "plt.grid(True)\n",
        "plt.show()"
      ],
      "metadata": {
        "colab": {
          "base_uri": "https://localhost:8080/",
          "height": 581
        },
        "id": "ZK7J8Os-YUj8",
        "outputId": "0bbaac57-ad47-46e3-d787-32e0f3ba52f9"
      },
      "execution_count": 25,
      "outputs": [
        {
          "output_type": "stream",
          "name": "stdout",
          "text": [
            "ROC AUC Score: 0.9556530630057731\n"
          ]
        },
        {
          "output_type": "display_data",
          "data": {
            "text/plain": [
              "<Figure size 800x600 with 1 Axes>"
            ],
            "image/png": "[encoded data removed]"
          },
          "metadata": {}
        }
      ]
    },
    {
      "cell_type": "code",
      "source": [
        "catboost_model.save_model('catboost_model.cbm')"
      ],
      "metadata": {
        "id": "7D8r6rvIdSBg"
      },
      "execution_count": 26,
      "outputs": []
    },
    {
      "cell_type": "markdown",
      "source": [
        "**Test**"
      ],
      "metadata": {
        "id": "KfWWJsExc37l"
      }
    },
    {
      "cell_type": "code",
      "source": [
        "test_df = pd.read_csv('/content/Assignment_Test.csv')"
      ],
      "metadata": {
        "id": "YK-Ywl3NZ_Bc"
      },
      "execution_count": 27,
      "outputs": []
    },
    {
      "cell_type": "code",
      "source": [
        "test_df.info()"
      ],
      "metadata": {
        "colab": {
          "base_uri": "https://localhost:8080/"
        },
        "id": "YaNsRTX0eVVj",
        "outputId": "c71052a5-2610-4dda-b1d0-72b49907cd3a"
      },
      "execution_count": 28,
      "outputs": [
        {
          "output_type": "stream",
          "name": "stdout",
          "text": [
            "<class 'pandas.core.frame.DataFrame'>\n",
            "RangeIndex: 2000 entries, 0 to 1999\n",
            "Data columns (total 55 columns):\n",
            " #   Column                               Non-Null Count  Dtype  \n",
            "---  ------                               --------------  -----  \n",
            " 0   UID                                  2000 non-null   int64  \n",
            " 1   DEALER ID                            2000 non-null   int64  \n",
            " 2   APPLICATION LOGIN DATE               2000 non-null   object \n",
            " 3   HDB BRANCH NAME                      2000 non-null   object \n",
            " 4   HDB BRANCH STATE                     1828 non-null   object \n",
            " 5   FIRST NAME                           2000 non-null   object \n",
            " 6   MIDDLE NAME                          595 non-null    object \n",
            " 7   LAST NAME                            1869 non-null   object \n",
            " 8   mobile                               2000 non-null   int64  \n",
            " 9   AADHAR VERIFIED                      2000 non-null   object \n",
            " 10  Cibil Score                          1158 non-null   object \n",
            " 11  MOBILE VERIFICATION                  2000 non-null   bool   \n",
            " 12  DEALER NAME                          2000 non-null   object \n",
            " 13  TOTAL ASSET COST                     978 non-null    float64\n",
            " 14  ASSET CTG                            978 non-null    object \n",
            " 15  ASSET MODEL NO                       2000 non-null   int64  \n",
            " 16  APPLIED AMOUNT                       2000 non-null   int64  \n",
            " 17  PRIMARY ASSET MAKE                   2000 non-null   object \n",
            " 18  Primary Asset Model No               2000 non-null   object \n",
            " 19  Personal Email Address               2000 non-null   object \n",
            " 20  MARITAL STATUS                       1019 non-null   object \n",
            " 21  GENDER                               2000 non-null   object \n",
            " 22  DOB                                  2000 non-null   int64  \n",
            " 23  AGE                                  2000 non-null   int64  \n",
            " 24  ADDRESS TYPE                         1365 non-null   object \n",
            " 25  EMPLOY CONSTITUTION                  1006 non-null   object \n",
            " 26  EMPLOYER NAME                        1005 non-null   object \n",
            " 27  EMPLOYER TYPE                        1006 non-null   object \n",
            " 28  Pan Name                             1791 non-null   object \n",
            " 29  name                                 2000 non-null   object \n",
            " 30  vpa                                  1446 non-null   object \n",
            " 31  upi_name                             1445 non-null   object \n",
            " 32  Phone Social Premium.a23games        0 non-null      float64\n",
            " 33  Phone Social Premium.amazon          1883 non-null   float64\n",
            " 34  Phone Social Premium.byjus           1977 non-null   float64\n",
            " 35  Phone Social Premium.flipkart        1955 non-null   float64\n",
            " 36  Phone Social Premium.housing         1977 non-null   float64\n",
            " 37  Phone Social Premium.indiamart       1977 non-null   float64\n",
            " 38  Phone Social Premium.instagram       612 non-null    float64\n",
            " 39  Phone Social Premium.isWABusiness    262 non-null    float64\n",
            " 40  Phone Social Premium.jeevansaathi    1962 non-null   float64\n",
            " 41  Phone Social Premium.jiomart         43 non-null     float64\n",
            " 42  Phone Social Premium.microsoft       1971 non-null   float64\n",
            " 43  Phone Social Premium.my11            0 non-null      float64\n",
            " 44  Phone Social Premium.paytm           1975 non-null   float64\n",
            " 45  Phone Social Premium.rummycircle     0 non-null      float64\n",
            " 46  Phone Social Premium.shaadi          1974 non-null   float64\n",
            " 47  Phone Social Premium.skype           1974 non-null   float64\n",
            " 48  Phone Social Premium.toi             1936 non-null   float64\n",
            " 49  Phone Social Premium.whatsapp        262 non-null    float64\n",
            " 50  Phone Social Premium.yatra           0 non-null      float64\n",
            " 51  Phone Social Premium.zoho            1977 non-null   float64\n",
            " 52  phone_digitalage                     2000 non-null   int64  \n",
            " 53  phone_nameMatchScore                 2000 non-null   float64\n",
            " 54  phone_phoneFootprintStrengthOverall  1999 non-null   object \n",
            "dtypes: bool(1), float64(22), int64(8), object(24)\n",
            "memory usage: 845.8+ KB\n"
          ]
        }
      ]
    },
    {
      "cell_type": "code",
      "source": [
        "columns_to_drop = ['DEALER ID','HDB BRANCH NAME', 'APPLICATION LOGIN DATE', 'HDB BRANCH STATE', 'mobile', 'AADHAR VERIFIED', 'MOBILE VERIFICATION', 'DEALER NAME', 'ASSET MODEL NO', 'PRIMARY ASSET MAKE', 'Primary Asset Model No', 'Personal Email Address', 'DOB', 'EMPLOYER NAME', 'EMPLOYER TYPE', 'FIRST NAME', 'MIDDLE NAME', 'LAST NAME', 'vpa', 'upi_name', 'Phone Social Premium.a23games', 'Phone Social Premium.amazon', 'Phone Social Premium.byjus', 'Phone Social Premium.flipkart', 'Phone Social Premium.indiamart', 'Phone Social Premium.instagram', 'Phone Social Premium.isWABusiness', 'Phone Social Premium.jeevansaathi', 'Phone Social Premium.jiomart', 'Phone Social Premium.microsoft', 'Phone Social Premium.my11', 'Phone Social Premium.paytm', 'Phone Social Premium.rummycircle', 'Phone Social Premium.shaadi', 'Phone Social Premium.skype', 'Phone Social Premium.toi', 'Phone Social Premium.whatsapp', 'Phone Social Premium.yatra', 'Phone Social Premium.zoho']\n",
        "test_df.drop(columns=columns_to_drop, inplace=True)"
      ],
      "metadata": {
        "id": "avkk3hdjc82R"
      },
      "execution_count": 29,
      "outputs": []
    },
    {
      "cell_type": "code",
      "source": [
        "# branch_name_freq = test_df['HDB BRANCH NAME'].value_counts()\n",
        "# branch_name_freq = branch_name_freq / len(df)\n",
        "# test_df['HDB BRANCH NAME'] = test_df['HDB BRANCH NAME'].map(branch_name_freq).fillna(0)"
      ],
      "metadata": {
        "id": "JAu9ruEadB6B"
      },
      "execution_count": 30,
      "outputs": []
    },
    {
      "cell_type": "code",
      "source": [
        "test_df['Cibil Score'] = pd.to_numeric(test_df['Cibil Score'], errors='coerce')"
      ],
      "metadata": {
        "id": "ym_XEri9dXTR"
      },
      "execution_count": 31,
      "outputs": []
    },
    {
      "cell_type": "code",
      "source": [
        "from sklearn.preprocessing import LabelEncoder\n",
        "\n",
        "le = LabelEncoder()"
      ],
      "metadata": {
        "id": "xCTKaPPXdZQV"
      },
      "execution_count": 32,
      "outputs": []
    },
    {
      "cell_type": "code",
      "source": [
        "le.fit(test_df['MARITAL STATUS'].dropna())\n",
        "\n",
        "print(dict(zip(le.classes_, le.transform(le.classes_))))\n",
        "\n",
        "test_df['MARITAL STATUS'] = test_df['MARITAL STATUS'].apply(lambda x: le.transform([x])[0] if pd.notnull(x) else np.nan)\n",
        "\n",
        "print(test_df['MARITAL STATUS'].unique())"
      ],
      "metadata": {
        "colab": {
          "base_uri": "https://localhost:8080/"
        },
        "id": "7Ph5Nrz_dbGB",
        "outputId": "d9e34698-bc94-41fd-b20b-d906c87f1634"
      },
      "execution_count": 33,
      "outputs": [
        {
          "output_type": "stream",
          "name": "stdout",
          "text": [
            "{'Married': 0, 'Single': 1}\n",
            "[ 0.  1. nan]\n"
          ]
        }
      ]
    },
    {
      "cell_type": "code",
      "source": [
        "le_gender = LabelEncoder()\n",
        "\n",
        "test_df['GENDER'] = le_gender.fit_transform(test_df['GENDER'])\n"
      ],
      "metadata": {
        "id": "qZ6ptVMydyh3"
      },
      "execution_count": 34,
      "outputs": []
    },
    {
      "cell_type": "code",
      "source": [
        "test_df = pd.get_dummies(test_df, columns=['ADDRESS TYPE'], dummy_na=True)"
      ],
      "metadata": {
        "id": "OLmz7DO4fGdW"
      },
      "execution_count": 35,
      "outputs": []
    },
    {
      "cell_type": "code",
      "source": [
        "test_df['EMPLOY CONSTITUTION'] = test_df['EMPLOY CONSTITUTION'].map({\n",
        "    'SALARIED': 0,\n",
        "    'SELF-EMPLOYED': 1\n",
        "})"
      ],
      "metadata": {
        "id": "2gtThHjVfJex"
      },
      "execution_count": 36,
      "outputs": []
    },
    {
      "cell_type": "code",
      "source": [
        "test_df['pan_name_match'] = test_df.apply(\n",
        "    lambda row: 1 if pd.isna(row['Pan Name']) or row['Pan Name'] == row['name'] else 0,\n",
        "    axis=1\n",
        ")\n",
        "\n",
        "test_df = test_df.drop(columns=['Pan Name', 'name'])"
      ],
      "metadata": {
        "id": "UCvbGPhSfLj3"
      },
      "execution_count": 37,
      "outputs": []
    },
    {
      "cell_type": "code",
      "source": [
        "phone_footprint_encoded = pd.get_dummies(test_df['phone_phoneFootprintStrengthOverall'], dummy_na=True, prefix='phone_footprint')\n",
        "test_df = pd.concat([test_df, phone_footprint_encoded], axis=1)\n",
        "test_df = test_df.drop(columns=['phone_phoneFootprintStrengthOverall'])"
      ],
      "metadata": {
        "id": "oDdaD4B3fOr7"
      },
      "execution_count": 38,
      "outputs": []
    },
    {
      "cell_type": "code",
      "source": [
        "test_df.drop('ASSET CTG', axis=1, inplace=True)"
      ],
      "metadata": {
        "id": "ExVAfgiefUqY"
      },
      "execution_count": 39,
      "outputs": []
    },
    {
      "cell_type": "code",
      "source": [
        "test_df.drop('UID', axis=1, inplace=True)"
      ],
      "metadata": {
        "id": "9gf0K4wJgKWP"
      },
      "execution_count": 40,
      "outputs": []
    },
    {
      "cell_type": "code",
      "source": [
        "test_df.drop('phone_footprint_nan', axis=1, inplace=True)"
      ],
      "metadata": {
        "id": "EK2okgtGghwF"
      },
      "execution_count": 41,
      "outputs": []
    },
    {
      "cell_type": "code",
      "source": [
        "df.info()"
      ],
      "metadata": {
        "colab": {
          "base_uri": "https://localhost:8080/"
        },
        "id": "iMF3LgsRfYM5",
        "outputId": "e8f75168-c48d-4b17-fa3e-9124f34e84d3"
      },
      "execution_count": 42,
      "outputs": [
        {
          "output_type": "stream",
          "name": "stdout",
          "text": [
            "<class 'pandas.core.frame.DataFrame'>\n",
            "RangeIndex: 10000 entries, 0 to 9999\n",
            "Data columns (total 29 columns):\n",
            " #   Column                           Non-Null Count  Dtype  \n",
            "---  ------                           --------------  -----  \n",
            " 0   Cibil Score                      5665 non-null   float64\n",
            " 1   TOTAL ASSET COST                 4892 non-null   float64\n",
            " 2   APPLIED AMOUNT                   10000 non-null  int64  \n",
            " 3   MARITAL STATUS                   5106 non-null   float64\n",
            " 4   GENDER                           10000 non-null  int64  \n",
            " 5   AGE                              10000 non-null  int64  \n",
            " 6   EMPLOY CONSTITUTION              5002 non-null   float64\n",
            " 7   Phone Social Premium.housing     8224 non-null   float64\n",
            " 8   phone_digitalage                 9996 non-null   float64\n",
            " 9   phone_nameMatchScore             9996 non-null   float64\n",
            " 10  Application Status               10000 non-null  int64  \n",
            " 11  ADDRESS TYPE_Company Provided    10000 non-null  bool   \n",
            " 12  ADDRESS TYPE_OWNDED-FLAT         10000 non-null  bool   \n",
            " 13  ADDRESS TYPE_OWNED-BUNGLOW       10000 non-null  bool   \n",
            " 14  ADDRESS TYPE_OWNED-PENTHOUSE     10000 non-null  bool   \n",
            " 15  ADDRESS TYPE_OWNED-ROWHOUSE      10000 non-null  bool   \n",
            " 16  ADDRESS TYPE_PARENT OWNED-FLAT   10000 non-null  bool   \n",
            " 17  ADDRESS TYPE_PARENT OWNED-HOUSE  10000 non-null  bool   \n",
            " 18  ADDRESS TYPE_Parental            10000 non-null  bool   \n",
            " 19  ADDRESS TYPE_RENTED-ROWHOUSE     10000 non-null  bool   \n",
            " 20  ADDRESS TYPE_RESIDENCE           10000 non-null  bool   \n",
            " 21  ADDRESS TYPE_Rented              10000 non-null  bool   \n",
            " 22  ADDRESS TYPE_Self/Spouse Owned   10000 non-null  bool   \n",
            " 23  pan_name_match                   10000 non-null  int64  \n",
            " 24  phone_footprint_High             10000 non-null  bool   \n",
            " 25  phone_footprint_Low              10000 non-null  bool   \n",
            " 26  phone_footprint_Medium           10000 non-null  bool   \n",
            " 27  phone_footprint_Very High        10000 non-null  bool   \n",
            " 28  phone_footprint_Very Low         10000 non-null  bool   \n",
            "dtypes: bool(17), float64(7), int64(5)\n",
            "memory usage: 1.1 MB\n"
          ]
        }
      ]
    },
    {
      "cell_type": "code",
      "source": [
        "test_df.info()"
      ],
      "metadata": {
        "colab": {
          "base_uri": "https://localhost:8080/"
        },
        "id": "iud560iJf3Wa",
        "outputId": "7156a314-a4f2-45d5-8344-7b6fc9bd7782"
      },
      "execution_count": 43,
      "outputs": [
        {
          "output_type": "stream",
          "name": "stdout",
          "text": [
            "<class 'pandas.core.frame.DataFrame'>\n",
            "RangeIndex: 2000 entries, 0 to 1999\n",
            "Data columns (total 24 columns):\n",
            " #   Column                          Non-Null Count  Dtype  \n",
            "---  ------                          --------------  -----  \n",
            " 0   Cibil Score                     1154 non-null   float64\n",
            " 1   TOTAL ASSET COST                978 non-null    float64\n",
            " 2   APPLIED AMOUNT                  2000 non-null   int64  \n",
            " 3   MARITAL STATUS                  1019 non-null   float64\n",
            " 4   GENDER                          2000 non-null   int64  \n",
            " 5   AGE                             2000 non-null   int64  \n",
            " 6   EMPLOY CONSTITUTION             1006 non-null   float64\n",
            " 7   Phone Social Premium.housing    1977 non-null   float64\n",
            " 8   phone_digitalage                2000 non-null   int64  \n",
            " 9   phone_nameMatchScore            2000 non-null   float64\n",
            " 10  ADDRESS TYPE_Company Provided   2000 non-null   bool   \n",
            " 11  ADDRESS TYPE_OTHERS             2000 non-null   bool   \n",
            " 12  ADDRESS TYPE_OWNED-PENTHOUSE    2000 non-null   bool   \n",
            " 13  ADDRESS TYPE_Parental           2000 non-null   bool   \n",
            " 14  ADDRESS TYPE_RESIDENCE          2000 non-null   bool   \n",
            " 15  ADDRESS TYPE_Rented             2000 non-null   bool   \n",
            " 16  ADDRESS TYPE_Self/Spouse Owned  2000 non-null   bool   \n",
            " 17  ADDRESS TYPE_nan                2000 non-null   bool   \n",
            " 18  pan_name_match                  2000 non-null   int64  \n",
            " 19  phone_footprint_High            2000 non-null   bool   \n",
            " 20  phone_footprint_Low             2000 non-null   bool   \n",
            " 21  phone_footprint_Medium          2000 non-null   bool   \n",
            " 22  phone_footprint_Very High       2000 non-null   bool   \n",
            " 23  phone_footprint_Very Low        2000 non-null   bool   \n",
            "dtypes: bool(13), float64(6), int64(5)\n",
            "memory usage: 197.4 KB\n"
          ]
        }
      ]
    },
    {
      "cell_type": "code",
      "source": [
        "new_columns = {\n",
        "    'ADDRESS TYPE_OWNDED-FLAT': False,\n",
        "    'ADDRESS TYPE_OWNED-BUNGLOW': False,\n",
        "    'ADDRESS TYPE_OWNED-ROWHOUSE': False,\n",
        "    'ADDRESS TYPE_PARENT OWNED-FLAT': False,\n",
        "    'ADDRESS TYPE_PARENT OWNED-HOUSE': False,\n",
        "    'ADDRESS TYPE_RENTED-ROWHOUSE': False,\n",
        "}\n",
        "\n",
        "for col, default_value in new_columns.items():\n",
        "    if col not in test_df.columns:\n",
        "        test_df[col] = default_value"
      ],
      "metadata": {
        "id": "XgqV5eYJgGNt"
      },
      "execution_count": 44,
      "outputs": []
    },
    {
      "cell_type": "code",
      "source": [
        "test_dfdf = pd.read_csv('/content/Assignment_Test.csv')\n",
        "test_dfdf['ADDRESS TYPE'].unique()"
      ],
      "metadata": {
        "colab": {
          "base_uri": "https://localhost:8080/"
        },
        "id": "6oKXlh_zh39x",
        "outputId": "b61665b1-80ba-42b5-c47f-74e4ea02e8e3"
      },
      "execution_count": 45,
      "outputs": [
        {
          "output_type": "execute_result",
          "data": {
            "text/plain": [
              "array(['Self/Spouse Owned', 'Parental', nan, 'RESIDENCE', 'Rented',\n",
              "       'OWNED-PENTHOUSE', 'Company Provided', 'OTHERS'], dtype=object)"
            ]
          },
          "metadata": {},
          "execution_count": 45
        }
      ]
    },
    {
      "cell_type": "code",
      "source": [
        "dfdf = pd.read_csv('/content/Assignment_Train.csv')\n",
        "dfdf['ADDRESS TYPE'].unique()"
      ],
      "metadata": {
        "colab": {
          "base_uri": "https://localhost:8080/"
        },
        "id": "rbhdC8eRiBlb",
        "outputId": "999a8d8b-b5f5-4973-dbf1-1f00dc86123a"
      },
      "execution_count": 46,
      "outputs": [
        {
          "output_type": "execute_result",
          "data": {
            "text/plain": [
              "array(['Parental', nan, 'Self/Spouse Owned', 'Rented', 'RESIDENCE',\n",
              "       'PARENT OWNED-HOUSE', 'OWNED-PENTHOUSE', 'Company Provided',\n",
              "       'OWNDED-FLAT', 'OWNED-BUNGLOW', 'OWNED-ROWHOUSE',\n",
              "       'PARENT OWNED-FLAT', 'RENTED-ROWHOUSE'], dtype=object)"
            ]
          },
          "metadata": {},
          "execution_count": 46
        }
      ]
    },
    {
      "cell_type": "code",
      "source": [
        "test_df = test_df.drop('ADDRESS TYPE_OTHERS', axis=1)"
      ],
      "metadata": {
        "id": "UaouCd6PkSdm"
      },
      "execution_count": 47,
      "outputs": []
    },
    {
      "cell_type": "code",
      "source": [
        "catboost_predictions = catboost_model.predict(test_df)"
      ],
      "metadata": {
        "id": "Rj3uNW4Aksm6"
      },
      "execution_count": 48,
      "outputs": []
    },
    {
      "cell_type": "code",
      "source": [
        "print(len(catboost_predictions))"
      ],
      "metadata": {
        "colab": {
          "base_uri": "https://localhost:8080/"
        },
        "id": "8OsAebfynXft",
        "outputId": "3b53e15f-8005-407e-9771-192112c0ec6e"
      },
      "execution_count": 49,
      "outputs": [
        {
          "output_type": "stream",
          "name": "stdout",
          "text": [
            "2000\n"
          ]
        }
      ]
    },
    {
      "cell_type": "code",
      "source": [
        "test_df = pd.read_csv('/content/Assignment_Test.csv')\n",
        "res_df = test_df[['UID']]\n",
        "res_df['Prediction'] = catboost_predictions"
      ],
      "metadata": {
        "colab": {
          "base_uri": "https://localhost:8080/"
        },
        "id": "B6aqkQX8nhbC",
        "outputId": "1ed47010-b92f-4dc5-a207-a1e5e5900881"
      },
      "execution_count": 50,
      "outputs": [
        {
          "output_type": "stream",
          "name": "stderr",
          "text": [
            "<ipython-input-50-eb96e590fe0f>:3: SettingWithCopyWarning: \n",
            "A value is trying to be set on a copy of a slice from a DataFrame.\n",
            "Try using .loc[row_indexer,col_indexer] = value instead\n",
            "\n",
            "See the caveats in the documentation: https://pandas.pydata.org/pandas-docs/stable/user_guide/indexing.html#returning-a-view-versus-a-copy\n",
            "  res_df['Prediction'] = catboost_predictions\n"
          ]
        }
      ]
    },
    {
      "cell_type": "code",
      "source": [
        "res_df['Prediction'] = res_df['Prediction'].replace({0: 'DECLINED', 1: 'APPROVED'})"
      ],
      "metadata": {
        "colab": {
          "base_uri": "https://localhost:8080/"
        },
        "id": "uYqBhRv8ofkH",
        "outputId": "8b8ff7ca-9784-44e0-f422-daf48bf514f1"
      },
      "execution_count": 51,
      "outputs": [
        {
          "output_type": "stream",
          "name": "stderr",
          "text": [
            "<ipython-input-51-5237f8f79082>:1: SettingWithCopyWarning: \n",
            "A value is trying to be set on a copy of a slice from a DataFrame.\n",
            "Try using .loc[row_indexer,col_indexer] = value instead\n",
            "\n",
            "See the caveats in the documentation: https://pandas.pydata.org/pandas-docs/stable/user_guide/indexing.html#returning-a-view-versus-a-copy\n",
            "  res_df['Prediction'] = res_df['Prediction'].replace({0: 'DECLINED', 1: 'APPROVED'})\n"
          ]
        }
      ]
    },
    {
      "cell_type": "code",
      "source": [
        "res_df.to_csv('predictions.csv', index=False)"
      ],
      "metadata": {
        "id": "LBIziOY3n1Yx"
      },
      "execution_count": 53,
      "outputs": []
    },
    {
      "cell_type": "code",
      "source": [],
      "metadata": {
        "id": "9YByua4fn6Pw"
      },
      "execution_count": null,
      "outputs": []
    }
  ]
}